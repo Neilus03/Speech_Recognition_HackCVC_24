{
 "cells": [
  {
   "cell_type": "markdown",
   "metadata": {},
   "source": [
    "## This file will serve to transcribe the MP3 videos"
   ]
  },
  {
   "cell_type": "markdown",
   "metadata": {},
   "source": [
    "Install/import libraries"
   ]
  },
  {
   "cell_type": "code",
   "execution_count": 13,
   "metadata": {},
   "outputs": [],
   "source": [
    "import whisper\n",
    "import ffmpeg\n",
    "import os\n",
    "from pathlib import Path\n",
    "import torch"
   ]
  },
  {
   "cell_type": "code",
   "execution_count": 14,
   "metadata": {},
   "outputs": [],
   "source": [
    "# CUDA device setup\n",
    "device = (\"cuda:1\" if torch.cuda.is_available() else \"cpu\")"
   ]
  },
  {
   "cell_type": "markdown",
   "metadata": {},
   "source": [
    "Transcription function definition"
   ]
  },
  {
   "cell_type": "code",
   "execution_count": 15,
   "metadata": {},
   "outputs": [],
   "source": [
    "def transcribe_audio(audio_path, transcription_path, model_size='medium'):\n",
    "    # Load the Whisper model\n",
    "    model = whisper.load_model(model_size).to(device)\n",
    "\n",
    "    # Transcribe the audio\n",
    "    result = model.transcribe(audio_path)\n",
    "    \n",
    "    # Detect the language of the transcription\n",
    "    #language = model.detect_language(result['text'])\n",
    "\n",
    "    # Save the transcription to a file\n",
    "    with open(transcription_path, 'w') as f:\n",
    "        f.write(result['text'])\n",
    "        \n",
    "    return result['text']\n"
   ]
  },
  {
   "cell_type": "code",
   "execution_count": 16,
   "metadata": {},
   "outputs": [
    {
     "name": "stdout",
     "output_type": "stream",
     "text": [
      "Transcribing audio from /data3fast/users/group02/videos/tracks/n6ONKshWSMg/Running Hadoop on Raspberry Pis Jamie Whitehorn_trimmed.mp3...\n"
     ]
    },
    {
     "name": "stderr",
     "output_type": "stream",
     "text": [
      "/home/GROUP02/miniconda3/envs/speech/lib/python3.9/site-packages/whisper/transcribe.py:115: UserWarning: FP16 is not supported on CPU; using FP32 instead\n",
      "  warnings.warn(\"FP16 is not supported on CPU; using FP32 instead\")\n"
     ]
    },
    {
     "name": "stdout",
     "output_type": "stream",
     "text": [
      "/data3fast/users/group02/videos/tracks/n6ONKshWSMg/Running Hadoop on Raspberry Pis Jamie Whitehorn_trimmed.mp3\n",
      "Finished transcribing. Transcription saved to /data3fast/users/group02/videos/tracks/n6ONKshWSMg/transcription.txt.\n"
     ]
    }
   ],
   "source": [
    "base_directory = Path(\"/data3fast/users/group02/videos/tracks\")\n",
    "\n",
    "for folder in base_directory.iterdir():\n",
    "    if folder.is_dir():\n",
    "        # Assuming there's only one MP3 file per folder, which is what Adrian said\n",
    "        audio_file = next(folder.glob(\"*.mp3\"), None)\n",
    "        if audio_file:\n",
    "            transcription_file = folder / \"transcription.txt\"\n",
    "            print(f\"Transcribing audio from {audio_file}...\")\n",
    "\n",
    "            # Transcribe audio to text\n",
    "            transcribe_audio(str(audio_file), str(transcription_file))\n",
    "            print(audio_file)\n",
    "\n",
    "            print(f\"Finished transcribing. Transcription saved to {transcription_file}.\")\n",
    "        else:\n",
    "            print(f\"No MP3 file found in {folder}.\")\n",
    "    break\n"
   ]
  },
  {
   "cell_type": "code",
   "execution_count": null,
   "metadata": {},
   "outputs": [],
   "source": []
  }
 ],
 "metadata": {
  "kernelspec": {
   "display_name": "speech",
   "language": "python",
   "name": "python3"
  },
  "language_info": {
   "codemirror_mode": {
    "name": "ipython",
    "version": 3
   },
   "file_extension": ".py",
   "mimetype": "text/x-python",
   "name": "python",
   "nbconvert_exporter": "python",
   "pygments_lexer": "ipython3",
   "version": "3.9.18"
  }
 },
 "nbformat": 4,
 "nbformat_minor": 2
}
